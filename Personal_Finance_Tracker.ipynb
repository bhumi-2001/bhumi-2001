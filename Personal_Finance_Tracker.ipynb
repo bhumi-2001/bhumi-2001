{
  "nbformat": 4,
  "nbformat_minor": 0,
  "metadata": {
    "colab": {
      "provenance": [],
      "authorship_tag": "ABX9TyN6TYqn2aTTDMwdIVmU3pj9",
      "include_colab_link": true
    },
    "kernelspec": {
      "name": "python3",
      "display_name": "Python 3"
    },
    "language_info": {
      "name": "python"
    }
  },
  "cells": [
    {
      "cell_type": "markdown",
      "metadata": {
        "id": "view-in-github",
        "colab_type": "text"
      },
      "source": [
        "<a href=\"https://colab.research.google.com/github/bhumi-2001/bhumi-2001/blob/main/Personal_Finance_Tracker.ipynb\" target=\"_parent\"><img src=\"https://colab.research.google.com/assets/colab-badge.svg\" alt=\"Open In Colab\"/></a>"
      ]
    },
    {
      "cell_type": "code",
      "execution_count": null,
      "metadata": {
        "colab": {
          "base_uri": "https://localhost:8080/"
        },
        "id": "enHY3Cp7lplJ",
        "outputId": "7c6a1f4a-dc2a-419f-afba-50c5af2e2916"
      },
      "outputs": [
        {
          "metadata": {
            "tags": null
          },
          "name": "stdout",
          "output_type": "stream",
          "text": [
            "\n",
            "Expense Tracker\n",
            "\n",
            "1. Add Expense\n",
            "2. View Expenses\n",
            "3. Delete Expense\n",
            "4. Update Expense\n",
            "5. Exit\n"
          ]
        }
      ],
      "source": [
        "import sqlite3\n",
        "from tabulate import tabulate\n",
        "\n",
        "# Function to create database and table if not exists\n",
        "def create_database():\n",
        "    conn = sqlite3.connect('expenses.db')\n",
        "    c = conn.cursor()\n",
        "    c.execute('''CREATE TABLE IF NOT EXISTS expenses\n",
        "                 (id INTEGER PRIMARY KEY AUTOINCREMENT,\n",
        "                 date TEXT,\n",
        "                 category TEXT,\n",
        "                 amount REAL)''')\n",
        "    conn.commit()\n",
        "    conn.close()\n",
        "\n",
        "# Function to add expense\n",
        "def add_expense(date, category, amount):\n",
        "    conn = sqlite3.connect('expenses.db')\n",
        "    c = conn.cursor()\n",
        "    c.execute(\"INSERT INTO expenses (date, category, amount) VALUES (?, ?, ?)\", (date, category, amount))\n",
        "    conn.commit()\n",
        "    conn.close()\n",
        "\n",
        "# Function to view expenses\n",
        "def view_expenses():\n",
        "    conn = sqlite3.connect('expenses.db')\n",
        "    c = conn.cursor()\n",
        "    c.execute(\"SELECT * FROM expenses\")\n",
        "    expenses = c.fetchall()\n",
        "    conn.close()\n",
        "    if expenses:\n",
        "        print(tabulate(expenses, headers=['ID', 'Date', 'Category', 'Amount'], tablefmt='grid'))\n",
        "    else:\n",
        "        print(\"No expenses found.\")\n",
        "\n",
        "# Function to delete expense\n",
        "def delete_expense(expense_id):\n",
        "    conn = sqlite3.connect('expenses.db')\n",
        "    c = conn.cursor()\n",
        "    c.execute(\"DELETE FROM expenses WHERE id=?\", (expense_id,))\n",
        "    conn.commit()\n",
        "    conn.close()\n",
        "\n",
        "# Function to update expense\n",
        "def update_expense(expense_id, new_date, new_category, new_amount):\n",
        "    conn = sqlite3.connect('expenses.db')\n",
        "    c = conn.cursor()\n",
        "    c.execute(\"UPDATE expenses SET date=?, category=?, amount=? WHERE id=?\", (new_date, new_category, new_amount, expense_id))\n",
        "    conn.commit()\n",
        "    conn.close()\n",
        "\n",
        "# Main function to run the program\n",
        "def main():\n",
        "    create_database()\n",
        "    while True:\n",
        "        print(\"\\nExpense Tracker\\n\")\n",
        "        print(\"1. Add Expense\")\n",
        "        print(\"2. View Expenses\")\n",
        "        print(\"3. Delete Expense\")\n",
        "        print(\"4. Update Expense\")\n",
        "        print(\"5. Exit\")\n",
        "        choice = input(\"Enter your choice: \")\n",
        "\n",
        "        if choice == '1':\n",
        "            date = input(\"Enter date (YYYY-MM-DD): \")\n",
        "            category = input(\"Enter category: \")\n",
        "            amount = float(input(\"Enter amount: \"))\n",
        "            add_expense(date, category, amount)\n",
        "\n",
        "        elif choice == '2':\n",
        "            view_expenses()\n",
        "\n",
        "        elif choice == '3':\n",
        "            expense_id = int(input(\"Enter expense ID to delete: \"))\n",
        "            delete_expense(expense_id)\n",
        "            print(\"Expense deleted successfully.\")\n",
        "\n",
        "        elif choice == '4':\n",
        "            expense_id = int(input(\"Enter expense ID to update: \"))\n",
        "            new_date = input(\"Enter new date (YYYY-MM-DD): \")\n",
        "            new_category = input(\"Enter new category: \")\n",
        "            new_amount = float(input(\"Enter new amount: \"))\n",
        "            update_expense(expense_id, new_date, new_category, new_amount)\n",
        "            print(\"Expense updated successfully.\")\n",
        "\n",
        "        elif choice == '5':\n",
        "            print(\"Exiting...\")\n",
        "            break\n",
        "\n",
        "        else:\n",
        "            print(\"Invalid choice. Please enter a valid option.\")\n",
        "\n",
        "if __name__ == \"__main__\":\n",
        "    main()\n"
      ]
    }
  ]
}